{
  "nbformat": 4,
  "nbformat_minor": 0,
  "metadata": {
    "colab": {
      "name": "Assignment 4(Final Project).ipynb",
      "provenance": [],
      "authorship_tag": "ABX9TyM5P/AC9iEy1HRCQsnCq1yD",
      "include_colab_link": true
    },
    "kernelspec": {
      "name": "python3",
      "display_name": "Python 3"
    },
    "language_info": {
      "name": "python"
    }
  },
  "cells": [
    {
      "cell_type": "markdown",
      "metadata": {
        "id": "view-in-github",
        "colab_type": "text"
      },
      "source": [
        "<a href=\"https://colab.research.google.com/github/sanket665/Python-Project/blob/main/Assignment_4(Final_Project).ipynb\" target=\"_parent\"><img src=\"https://colab.research.google.com/assets/colab-badge.svg\" alt=\"Open In Colab\"/></a>"
      ]
    },
    {
      "cell_type": "code",
      "metadata": {
        "colab": {
          "base_uri": "https://localhost:8080/"
        },
        "id": "gRfKJcmnZ9UB",
        "outputId": "797da232-8439-4d97-f67a-f8843bb79f2b"
      },
      "source": [
        "# Assignment 4 (Final Project)\n",
        "# Python based degree converter which takes °C value and give you output of °F.\n",
        "\n",
        "print(\"Temprature Converter\")\n",
        "\n",
        "temp = eval(input(\"Enter the Temprature : \"))\n",
        "converted_temp = (temp * 9/5) + 32\n",
        "\n",
        "print(\"Temprature Entered   : \",temp,'\\N{DEGREE SIGN}C')\n",
        "print(\"Converted Temprature : \",converted_temp,'\\N{DEGREE SIGN}F')\n",
        "print(\"Thanks for using Converter\")"
      ],
      "execution_count": 9,
      "outputs": [
        {
          "output_type": "stream",
          "text": [
            "Temprature Converter\n",
            "Enter the Temprature : 50\n",
            "Temprature Entered   :  50 °C\n",
            "Converted Temprature :  122.0 °F\n",
            "Thanks for using Converter\n"
          ],
          "name": "stdout"
        }
      ]
    }
  ]
}