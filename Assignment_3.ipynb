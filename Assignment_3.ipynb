{
  "nbformat": 4,
  "nbformat_minor": 0,
  "metadata": {
    "colab": {
      "name": "Assignment 3.ipynb",
      "provenance": [],
      "collapsed_sections": [],
      "authorship_tag": "ABX9TyP1ZAp4HlGlimof79AkSkkr",
      "include_colab_link": true
    },
    "kernelspec": {
      "name": "python3",
      "display_name": "Python 3"
    },
    "language_info": {
      "name": "python"
    }
  },
  "cells": [
    {
      "cell_type": "markdown",
      "metadata": {
        "id": "view-in-github",
        "colab_type": "text"
      },
      "source": [
        "<a href=\"https://colab.research.google.com/github/sanket665/Python-Project/blob/main/Assignment_3.ipynb\" target=\"_parent\"><img src=\"https://colab.research.google.com/assets/colab-badge.svg\" alt=\"Open In Colab\"/></a>"
      ]
    },
    {
      "cell_type": "code",
      "metadata": {
        "colab": {
          "base_uri": "https://localhost:8080/"
        },
        "id": "oPKXDF5U95w2",
        "outputId": "16e4ff4b-a8e2-4438-d9d7-d44d80698127"
      },
      "source": [
        "# Assignment 3\n",
        "#Take input for the gift_presented_to[] list and print its respective gift_received_from[] list.\n",
        "\n",
        "person_list={'1':2, '2':1, '3':4, '4':5, '5':3}\n",
        "print(person_list.values())"
      ],
      "execution_count": 4,
      "outputs": [
        {
          "output_type": "stream",
          "text": [
            "dict_values([2, 1, 4, 5, 3])\n"
          ],
          "name": "stdout"
        }
      ]
    },
    {
      "cell_type": "code",
      "metadata": {
        "colab": {
          "base_uri": "https://localhost:8080/"
        },
        "id": "N6nselgH96Hm",
        "outputId": "b78ab0c2-7e53-4904-a544-110b15af6891"
      },
      "source": [
        "person_list={1:2, 2:1, 3:4, 4:5, 5:3, 3:2}\n",
        "print(sorted(person_list))"
      ],
      "execution_count": 3,
      "outputs": [
        {
          "output_type": "stream",
          "text": [
            "[1, 2, 3, 4, 5]\n"
          ],
          "name": "stdout"
        }
      ]
    }
  ]
}